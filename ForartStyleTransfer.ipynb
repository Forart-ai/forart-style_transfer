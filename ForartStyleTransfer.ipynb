{
 "cells": [
  {
   "cell_type": "code",
   "execution_count": 7,
   "metadata": {},
   "outputs": [
    {
     "name": "stdout",
     "output_type": "stream",
     "text": [
      "\n",
      ">>> Begin to stylize images with style weight: 2.00\n",
      "\n",
      "INFO:tensorflow:Restoring parameters from ./models/style_weight_2e0.ckpt\n"
     ]
    },
    {
     "name": "stderr",
     "output_type": "stream",
     "text": [
      "Lossy conversion from float32 to uint8. Range [0.0, 255.0]. Convert image to uint8 prior to saving to suppress this warning.\n",
      "Lossy conversion from float32 to uint8. Range [0.0, 255.0]. Convert image to uint8 prior to saving to suppress this warning.\n",
      "Lossy conversion from float32 to uint8. Range [0.0, 255.0]. Convert image to uint8 prior to saving to suppress this warning.\n",
      "Lossy conversion from float32 to uint8. Range [0.0, 255.0]. Convert image to uint8 prior to saving to suppress this warning.\n",
      "Lossy conversion from float32 to uint8. Range [0.0, 255.0]. Convert image to uint8 prior to saving to suppress this warning.\n",
      "Lossy conversion from float32 to uint8. Range [0.0, 255.0]. Convert image to uint8 prior to saving to suppress this warning.\n",
      "Lossy conversion from float32 to uint8. Range [0.0, 255.0]. Convert image to uint8 prior to saving to suppress this warning.\n",
      "Lossy conversion from float32 to uint8. Range [0.0, 255.0]. Convert image to uint8 prior to saving to suppress this warning.\n",
      "Lossy conversion from float32 to uint8. Range [0.0, 255.0]. Convert image to uint8 prior to saving to suppress this warning.\n",
      "Lossy conversion from float32 to uint8. Range [0.0, 255.0]. Convert image to uint8 prior to saving to suppress this warning.\n",
      "Lossy conversion from float32 to uint8. Range [0.0, 255.0]. Convert image to uint8 prior to saving to suppress this warning.\n",
      "Lossy conversion from float32 to uint8. Range [0.0, 255.0]. Convert image to uint8 prior to saving to suppress this warning.\n",
      "Lossy conversion from float32 to uint8. Range [0.0, 255.0]. Convert image to uint8 prior to saving to suppress this warning.\n",
      "Lossy conversion from float32 to uint8. Range [0.0, 255.0]. Convert image to uint8 prior to saving to suppress this warning.\n",
      "Lossy conversion from float32 to uint8. Range [0.0, 255.0]. Convert image to uint8 prior to saving to suppress this warning.\n",
      "Lossy conversion from float32 to uint8. Range [0.0, 255.0]. Convert image to uint8 prior to saving to suppress this warning.\n",
      "Lossy conversion from float32 to uint8. Range [0.0, 255.0]. Convert image to uint8 prior to saving to suppress this warning.\n",
      "Lossy conversion from float32 to uint8. Range [0.0, 255.0]. Convert image to uint8 prior to saving to suppress this warning.\n",
      "Lossy conversion from float32 to uint8. Range [0.0, 255.0]. Convert image to uint8 prior to saving to suppress this warning.\n",
      "Lossy conversion from float32 to uint8. Range [0.0, 255.0]. Convert image to uint8 prior to saving to suppress this warning.\n",
      "Lossy conversion from float32 to uint8. Range [0.0, 255.0]. Convert image to uint8 prior to saving to suppress this warning.\n",
      "Lossy conversion from float32 to uint8. Range [0.0, 255.0]. Convert image to uint8 prior to saving to suppress this warning.\n",
      "Lossy conversion from float32 to uint8. Range [0.0, 255.0]. Convert image to uint8 prior to saving to suppress this warning.\n",
      "Lossy conversion from float32 to uint8. Range [0.0, 255.0]. Convert image to uint8 prior to saving to suppress this warning.\n",
      "Lossy conversion from float32 to uint8. Range [0.0, 255.0]. Convert image to uint8 prior to saving to suppress this warning.\n",
      "Lossy conversion from float32 to uint8. Range [0.0, 255.0]. Convert image to uint8 prior to saving to suppress this warning.\n",
      "Lossy conversion from float32 to uint8. Range [0.0, 255.0]. Convert image to uint8 prior to saving to suppress this warning.\n",
      "Lossy conversion from float32 to uint8. Range [0.0, 255.0]. Convert image to uint8 prior to saving to suppress this warning.\n",
      "Lossy conversion from float32 to uint8. Range [0.0, 255.0]. Convert image to uint8 prior to saving to suppress this warning.\n",
      "Lossy conversion from float32 to uint8. Range [0.0, 255.0]. Convert image to uint8 prior to saving to suppress this warning.\n",
      "Lossy conversion from float32 to uint8. Range [0.0, 255.0]. Convert image to uint8 prior to saving to suppress this warning.\n",
      "Lossy conversion from float32 to uint8. Range [0.0, 255.0]. Convert image to uint8 prior to saving to suppress this warning.\n",
      "Lossy conversion from float32 to uint8. Range [0.0, 255.0]. Convert image to uint8 prior to saving to suppress this warning.\n",
      "Lossy conversion from float32 to uint8. Range [0.0, 255.0]. Convert image to uint8 prior to saving to suppress this warning.\n",
      "Lossy conversion from float32 to uint8. Range [0.0, 255.0]. Convert image to uint8 prior to saving to suppress this warning.\n",
      "Lossy conversion from float32 to uint8. Range [0.0, 255.0]. Convert image to uint8 prior to saving to suppress this warning.\n"
     ]
    },
    {
     "name": "stdout",
     "output_type": "stream",
     "text": [
      "\n",
      ">>> Successfully! Done all stylizing...\n",
      "\n"
     ]
    }
   ],
   "source": [
    "from __future__ import print_function\n",
    "\n",
    "from train import train\n",
    "from infer import stylize\n",
    "from utils import list_images\n",
    "\n",
    "\n",
    "IS_TRAINING = False\n",
    "\n",
    "# for training\n",
    "TRAINING_CONTENT_DIR = '../MS_COCO'\n",
    "TRAINING_STYLE_DIR = '../WikiArt'\n",
    "ENCODER_WEIGHTS_PATH = './models/vgg19_normalised.npz'\n",
    "LOGGING_PERIOD = 20\n",
    "\n",
    "STYLE_WEIGHTS = [2.0]\n",
    "MODEL_SAVE_PATHS = [\n",
    "    './models/style_weight_2e0.ckpt',\n",
    "]\n",
    "\n",
    "# for inferring (stylize)\n",
    "INFERRING_CONTENT_DIR = './images/content'\n",
    "INFERRING_STYLE_DIR = './images/style'\n",
    "OUTPUTS_DIR = 'outputs'\n",
    "\n",
    "\n",
    "def main():\n",
    "\n",
    "    if IS_TRAINING:\n",
    "\n",
    "        content_imgs_path = list_images(TRAINING_CONTENT_DIR)\n",
    "        style_imgs_path   = list_images(TRAINING_STYLE_DIR)\n",
    "\n",
    "        for style_weight, model_save_path in zip(STYLE_WEIGHTS, MODEL_SAVE_PATHS):\n",
    "            print('\\n>>> Begin to train the network with the style weight: %.2f\\n' % style_weight)\n",
    "\n",
    "            train(style_weight, content_imgs_path, style_imgs_path, ENCODER_WEIGHTS_PATH, \n",
    "                  model_save_path, logging_period=LOGGING_PERIOD, debug=True)\n",
    "\n",
    "        print('\\n>>> Successfully! Done all training...\\n')\n",
    "\n",
    "    else:\n",
    "\n",
    "        content_imgs_path = list_images(INFERRING_CONTENT_DIR)\n",
    "        style_imgs_path   = list_images(INFERRING_STYLE_DIR)\n",
    "\n",
    "        for style_weight, model_save_path in zip(STYLE_WEIGHTS, MODEL_SAVE_PATHS):\n",
    "            print('\\n>>> Begin to stylize images with style weight: %.2f\\n' % style_weight)\n",
    "\n",
    "            stylize(content_imgs_path, style_imgs_path, OUTPUTS_DIR, \n",
    "                    ENCODER_WEIGHTS_PATH, model_save_path, \n",
    "                    suffix='-' + str(style_weight))\n",
    "\n",
    "        print('\\n>>> Successfully! Done all stylizing...\\n')\n",
    "\n",
    "\n",
    "if __name__ == '__main__':\n",
    "    main()\n"
   ]
  },
  {
   "cell_type": "code",
   "execution_count": null,
   "metadata": {},
   "outputs": [],
   "source": []
  }
 ],
 "metadata": {
  "kernelspec": {
   "display_name": "Python 3",
   "language": "python",
   "name": "python3"
  },
  "language_info": {
   "codemirror_mode": {
    "name": "ipython",
    "version": 3
   },
   "file_extension": ".py",
   "mimetype": "text/x-python",
   "name": "python",
   "nbconvert_exporter": "python",
   "pygments_lexer": "ipython3",
   "version": "3.8.5"
  }
 },
 "nbformat": 4,
 "nbformat_minor": 4
}
